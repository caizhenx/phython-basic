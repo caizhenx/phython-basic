{
 "cells": [
  {
   "cell_type": "code",
   "execution_count": 1,
   "metadata": {},
   "outputs": [
    {
     "name": "stdout",
     "output_type": "stream",
     "text": [
      "hello world !\n"
     ]
    }
   ],
   "source": [
    "print('hello world !')"
   ]
  },
  {
   "cell_type": "code",
   "execution_count": 3,
   "metadata": {},
   "outputs": [
    {
     "name": "stdin",
     "output_type": "stream",
     "text": [
      " caizhenx\n"
     ]
    },
    {
     "name": "stdout",
     "output_type": "stream",
     "text": [
      "hello, caizhenx\n"
     ]
    }
   ],
   "source": [
    "name = input()\n",
    "print('hello,',name)"
   ]
  },
  {
   "cell_type": "code",
   "execution_count": 6,
   "metadata": {},
   "outputs": [
    {
     "name": "stdout",
     "output_type": "stream",
     "text": [
      "65\n",
      "B\n",
      "22269\n"
     ]
    }
   ],
   "source": [
    "## 字符串与 ascii的转换\n",
    "print(ord('A'))\n",
    "print(chr(66))\n",
    "print(ord('国'))"
   ]
  },
  {
   "cell_type": "code",
   "execution_count": null,
   "metadata": {},
   "outputs": [],
   "source": []
  },
  {
   "cell_type": "code",
   "execution_count": 24,
   "metadata": {},
   "outputs": [
    {
     "name": "stdout",
     "output_type": "stream",
     "text": [
      "b'ABC'\n",
      "中文\n",
      "b'\\xe4\\xb8\\xad\\xe6\\x96\\x87'\n",
      "ABC\n",
      "b'\\xe4\\xb8\\xad\\xe6\\x96\\x87'\n",
      "中文\n"
     ]
    }
   ],
   "source": [
    "## phython的字符串类型是str，在内存中以Unicode标是，一个字符对应几个bytes。如果要在网络上传输、或者写到磁盘就要转换\n",
    "## bytes 的表示 可以在字符串前使用 b 前缀，或者使用encode函数指定为 bytes\n",
    "x = b'ABC'\n",
    "y = '中文'\n",
    "print(x)\n",
    "print(y)\n",
    "print(y.encode('utf-8'))\n",
    "\n",
    "## 使用decode 把bytes 转换为 字符串\n",
    "print(x.decode('utf-8'))\n",
    "y = y.encode('utf-8')\n",
    "print(y.decode('utf-8'))"
   ]
  },
  {
   "cell_type": "code",
   "execution_count": 26,
   "metadata": {},
   "outputs": [
    {
     "name": "stdout",
     "output_type": "stream",
     "text": [
      "6\n",
      "2\n"
     ]
    }
   ],
   "source": [
    "## 字符串的字符数量计算,注意不同编码的数量是不一样的\n",
    "print(len(y))\n",
    "print(len(y.decode('utf-8')))"
   ]
  },
  {
   "cell_type": "code",
   "execution_count": 39,
   "metadata": {},
   "outputs": [
    {
     "name": "stdout",
     "output_type": "stream",
     "text": [
      "name:caizhenx,age:35,income:12000.00\n",
      "name:caizhenx,age:35,incomde:12000.00\n",
      "72 / 85 = 1.2\n"
     ]
    }
   ],
   "source": [
    "## 格式化输出\n",
    "print('name:%s,age:%d,income:%.2f'%('caizhenx',35,12000.00))\n",
    "print('name:{0},age:{1},incomde:{2:.2f}'.format('caizhenx',35,12000.00))\n",
    "s1 = 72\n",
    "s2 = 85\n",
    "r = s2 / s1\n",
    "print('%s / %s = %.1f'%(s1,s2,r))"
   ]
  },
  {
   "cell_type": "code",
   "execution_count": 51,
   "metadata": {},
   "outputs": [],
   "source": [
    "## list \n",
    "lst1 = [\"蔡臻\",\"彩旗\",\"翰林\",\"俊美\"]\n",
    "print(lst1)\n",
    "print(lst1[0:])\n",
    "print(lst1[-2:])\n",
    "print(lst1[2])\n",
    "print(lst1[-1])\n",
    "print(lst1.append(\"蔡依琳\"))\n",
    "print(lst1.pop(1))\n",
    "print(lst1)\n",
    "print(len(lst1))"
   ]
  },
  {
   "cell_type": "code",
   "execution_count": 1,
   "metadata": {},
   "outputs": [],
   "source": [
    "## tuple\n",
    "tp1 = (\"name\",\"age\",\"id\")\n",
    "tp2 = (1,2,3)\n",
    "family = [\"son\",\"daugtor\"]\n",
    "tp3 = (\"name\",\"age\",family)\n",
    "print(tp1)\n",
    "print(tp2)\n",
    "print(tp3)\n",
    "tp3[2].append(\"mama\")\n",
    "print(tp3)"
   ]
  },
  {
   "cell_type": "code",
   "execution_count": 13,
   "metadata": {},
   "outputs": [],
   "source": [
    "## 条件判断\n",
    "age = 35\n",
    "if age >= 35:\n",
    "    print(\"age:%s\"%age)\n",
    "    print(\"age:{0:.1f}\".format(age))\n",
    "else:\n",
    "    print(\"too young\")\n",
    "\n",
    "    "
   ]
  },
  {
   "cell_type": "code",
   "execution_count": 15,
   "metadata": {},
   "outputs": [],
   "source": [
    "## 注意input后的比较要转换\n",
    "age = input()\n",
    "if int(age) >= 35:\n",
    "    print(\"age:%s\"%age)\n",
    "else:\n",
    "    print(\"too young\")\n",
    "    "
   ]
  },
  {
   "cell_type": "code",
   "execution_count": 26,
   "metadata": {},
   "outputs": [],
   "source": [
    "## \n",
    "instr = input().split(\",\")\n",
    "hight =float(instr[0])\n",
    "wight =float(instr[1])\n",
    "bmi = wight/hight**2\n",
    "print(\"身高:%s,体重：%.2f,bmi:%.2f\"%(hight,wight,bmi))\n",
    "if bmi < 18.5:\n",
    "    print('过轻')\n",
    "elif bmi >= 18.5 and bmi < 25:\n",
    "    print('正常')\n",
    "elif bmi >= 25 and bmi < 28:\n",
    "    print('过重')\n",
    "elif bmi >= 28 and bmi < 32:\n",
    "    print('肥胖')\n",
    "else:\n",
    "    print('严重肥胖')\n",
    "    "
   ]
  },
  {
   "cell_type": "code",
   "execution_count": 43,
   "metadata": {},
   "outputs": [],
   "source": [
    "## 循环\n",
    "lst1 = [\"蔡臻\",\"彩旗\",\"翰林\",\"俊美\",\"皇上\",\"皇后\"]\n",
    "# for name in lst1:\n",
    "#     print(name,end=\" \")\n",
    "print(len(lst1))\n",
    "n = 0\n",
    "while n < len(lst1):\n",
    "    n += 1\n",
    "    if n % 2 == 1:\n",
    "        print(lst1[n],end=\",\")\n",
    "    if  n % 2 == 0:\n",
    "        continue\n",
    "    if n == 5:\n",
    "        break\n",
    "\n",
    "print(\"%s 是第 %s 个\"%(lst1[n-1],n))"
   ]
  },
  {
   "cell_type": "code",
   "execution_count": 51,
   "metadata": {},
   "outputs": [],
   "source": [
    "## dict 里面的元素不能是可变的，比如 list\n",
    "d1 = {\"蔡臻\":35,\"翰林\":6,\"爷爷\":65}\n",
    "print(d1)\n",
    "print(d1['蔡臻'])\n",
    "print('蔡臻' in d1)\n",
    "print(d1.get('奶奶'))\n",
    "d1['翰林']=7\n",
    "print(d1)"
   ]
  },
  {
   "cell_type": "code",
   "execution_count": 56,
   "metadata": {},
   "outputs": [
    {
     "name": "stdout",
     "output_type": "stream",
     "text": [
      "{'翰林', '皇上', '彩旗', '蔡臻', '俊美', '皇后'}\n",
      "{'翰林', '皇上', '王爷', '彩旗', '蔡臻', '俊美', '皇后'}\n",
      "{'翰林', '皇上', '王爷', '彩旗', '蔡臻', '皇后'}\n"
     ]
    }
   ],
   "source": [
    "## set 需要一个 list来创建\n",
    "s1 = set([\"蔡臻\",\"彩旗\",\"翰林\",\"俊美\",\"皇上\",\"皇后\"])\n",
    "print(s1)\n",
    "s1.add(\"王爷\")\n",
    "print(s1)\n",
    "s1.remove(\"俊美\")\n",
    "print(s1)"
   ]
  }
 ],
 "metadata": {
  "kernelspec": {
   "display_name": "Python 3",
   "language": "python",
   "name": "python3"
  },
  "language_info": {
   "codemirror_mode": {
    "name": "ipython",
    "version": 3
   },
   "file_extension": ".py",
   "mimetype": "text/x-python",
   "name": "python",
   "nbconvert_exporter": "python",
   "pygments_lexer": "ipython3",
   "version": "3.7.4"
  }
 },
 "nbformat": 4,
 "nbformat_minor": 4
}
