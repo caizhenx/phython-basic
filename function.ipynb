{
 "cells": [
  {
   "cell_type": "code",
   "execution_count": 1,
   "metadata": {},
   "outputs": [],
   "source": [
    "## 函数\n",
    "\n",
    "def sq(r):\n",
    "    return r**2*3.14\n",
    "\n",
    "print(sq(3))"
   ]
  },
  {
   "cell_type": "code",
   "execution_count": 3,
   "metadata": {},
   "outputs": [],
   "source": [
    "import math\n",
    "\n",
    "def move(x,y,step,angle=0):\n",
    "    nx = x + step * math.cos(angle)\n",
    "    ny = y - step * math.sin(angle)\n",
    "    return nx,ny\n",
    "\n",
    "r = move(100,100,60,math.pi/6)\n",
    "x,y = move(100,100,60,math.pi/6)\n",
    "print(x,y)\n",
    "## 返回一个tuple\n",
    "print(r)"
   ]
  },
  {
   "cell_type": "code",
   "execution_count": 7,
   "metadata": {},
   "outputs": [
    {
     "name": "stdout",
     "output_type": "stream",
     "text": [
      "(-6.0, -18.0)\n"
     ]
    }
   ],
   "source": [
    "import math\n",
    "\n",
    "def quadratic(a,b,c):\n",
    "    if b**2-4*a*c < 0:\n",
    "        return \"无实数解\"\n",
    "    else:\n",
    "        return (-1*b + math.sqrt(b**2-4*a*c))/2*a,(-1*b - math.sqrt(b**2-4*a*c))/2*a\n",
    "\n",
    "r = quadratic(3,8,4)\n",
    "print(r)"
   ]
  }
 ],
 "metadata": {
  "kernelspec": {
   "display_name": "Python 3",
   "language": "python",
   "name": "python3"
  },
  "language_info": {
   "codemirror_mode": {
    "name": "ipython",
    "version": 3
   },
   "file_extension": ".py",
   "mimetype": "text/x-python",
   "name": "python",
   "nbconvert_exporter": "python",
   "pygments_lexer": "ipython3",
   "version": "3.7.4"
  }
 },
 "nbformat": 4,
 "nbformat_minor": 4
}
