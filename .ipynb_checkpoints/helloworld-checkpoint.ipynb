{
 "cells": [
  {
   "cell_type": "code",
   "execution_count": 1,
   "metadata": {},
   "outputs": [
    {
     "name": "stdout",
     "output_type": "stream",
     "text": [
      "hello world !\n"
     ]
    }
   ],
   "source": [
    "print('hello world !')"
   ]
  },
  {
   "cell_type": "code",
   "execution_count": 3,
   "metadata": {},
   "outputs": [
    {
     "name": "stdin",
     "output_type": "stream",
     "text": [
      " caizhenx\n"
     ]
    },
    {
     "name": "stdout",
     "output_type": "stream",
     "text": [
      "hello, caizhenx\n"
     ]
    }
   ],
   "source": [
    "name = input()\n",
    "print('hello,',name)"
   ]
  },
  {
   "cell_type": "code",
   "execution_count": 6,
   "metadata": {},
   "outputs": [
    {
     "name": "stdout",
     "output_type": "stream",
     "text": [
      "65\n",
      "B\n",
      "22269\n"
     ]
    }
   ],
   "source": [
    "## 字符串与 ascii的转换\n",
    "print(ord('A'))\n",
    "print(chr(66))\n",
    "print(ord('国'))"
   ]
  },
  {
   "cell_type": "code",
   "execution_count": null,
   "metadata": {},
   "outputs": [],
   "source": []
  },
  {
   "cell_type": "code",
   "execution_count": 24,
   "metadata": {},
   "outputs": [
    {
     "name": "stdout",
     "output_type": "stream",
     "text": [
      "b'ABC'\n",
      "中文\n",
      "b'\\xe4\\xb8\\xad\\xe6\\x96\\x87'\n",
      "ABC\n",
      "b'\\xe4\\xb8\\xad\\xe6\\x96\\x87'\n",
      "中文\n"
     ]
    }
   ],
   "source": [
    "## phython的字符串类型是str，在内存中以Unicode标是，一个字符对应几个bytes。如果要在网络上传输、或者写到磁盘就要转换\n",
    "## bytes 的表示 可以在字符串前使用 b 前缀，或者使用encode函数指定为 bytes\n",
    "x = b'ABC'\n",
    "y = '中文'\n",
    "print(x)\n",
    "print(y)\n",
    "print(y.encode('utf-8'))\n",
    "\n",
    "## 使用decode 把bytes 转换为 字符串\n",
    "print(x.decode('utf-8'))\n",
    "y = y.encode('utf-8')\n",
    "print(y.decode('utf-8'))"
   ]
  },
  {
   "cell_type": "code",
   "execution_count": 26,
   "metadata": {},
   "outputs": [
    {
     "name": "stdout",
     "output_type": "stream",
     "text": [
      "6\n",
      "2\n"
     ]
    }
   ],
   "source": [
    "## 字符串的字符数量计算,注意不同编码的数量是不一样的\n",
    "print(len(y))\n",
    "print(len(y.decode('utf-8')))"
   ]
  },
  {
   "cell_type": "code",
   "execution_count": 39,
   "metadata": {},
   "outputs": [
    {
     "name": "stdout",
     "output_type": "stream",
     "text": [
      "name:caizhenx,age:35,income:12000.00\n",
      "name:caizhenx,age:35,incomde:12000.00\n",
      "72 / 85 = 1.2\n"
     ]
    }
   ],
   "source": [
    "## 格式化输出\n",
    "print('name:%s,age:%d,income:%.2f'%('caizhenx',35,12000.00))\n",
    "print('name:{0},age:{1},incomde:{2:.2f}'.format('caizhenx',35,12000.00))\n",
    "s1 = 72\n",
    "s2 = 85\n",
    "r = s2 / s1\n",
    "print('%s / %s = %.1f'%(s1,s2,r))"
   ]
  },
  {
   "cell_type": "code",
   "execution_count": 51,
   "metadata": {},
   "outputs": [],
   "source": [
    "## list \n",
    "lst1 = [\"蔡臻\",\"彩旗\",\"翰林\",\"俊美\"]\n",
    "print(lst1)\n",
    "print(lst1[0:])\n",
    "print(lst1[-2:])\n",
    "print(lst1[2])\n",
    "print(lst1[-1])\n",
    "print(lst1.append(\"蔡依琳\"))\n",
    "print(lst1.pop(1))\n",
    "print(lst1)\n",
    "print(len(lst1))"
   ]
  },
  {
   "cell_type": "code",
   "execution_count": null,
   "metadata": {},
   "outputs": [],
   "source": [
    "## tuple\n",
    "tp1 = (\"name\",\"age\",\"id\")\n",
    "tp2 = (1,2,3)\n",
    "family = [\"son\",\"daugtor\"]\n",
    "tp3 = (\"name\",\"age\",family)\n",
    "print(tp1)\n",
    "print(tp2)\n",
    "print(tp3)\n",
    "tp3[2].append(\"mama\")\n",
    "print(tp3)\n",
    "\n",
    "\n"
   ]
  }
 ],
 "metadata": {
  "kernelspec": {
   "display_name": "Python 3",
   "language": "python",
   "name": "python3"
  },
  "language_info": {
   "codemirror_mode": {
    "name": "ipython",
    "version": 3
   },
   "file_extension": ".py",
   "mimetype": "text/x-python",
   "name": "python",
   "nbconvert_exporter": "python",
   "pygments_lexer": "ipython3",
   "version": "3.7.4"
  }
 },
 "nbformat": 4,
 "nbformat_minor": 4
}
