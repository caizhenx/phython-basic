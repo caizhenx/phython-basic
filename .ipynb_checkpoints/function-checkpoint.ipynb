{
 "cells": [
  {
   "cell_type": "code",
   "execution_count": 1,
   "metadata": {},
   "outputs": [],
   "source": [
    "## 函数\n",
    "\n",
    "def sq(r):\n",
    "    return r**2*3.14\n",
    "\n",
    "print(sq(3))"
   ]
  },
  {
   "cell_type": "code",
   "execution_count": 3,
   "metadata": {},
   "outputs": [],
   "source": [
    "import math\n",
    "\n",
    "def move(x,y,step,angle=0):\n",
    "    nx = x + step * math.cos(angle)\n",
    "    ny = y - step * math.sin(angle)\n",
    "    return nx,ny\n",
    "\n",
    "r = move(100,100,60,math.pi/6)\n",
    "x,y = move(100,100,60,math.pi/6)\n",
    "print(x,y)\n",
    "## 返回一个tuple\n",
    "print(r)"
   ]
  },
  {
   "cell_type": "code",
   "execution_count": 7,
   "metadata": {},
   "outputs": [],
   "source": [
    "import math\n",
    "\n",
    "def quadratic(a,b,c):\n",
    "    if b**2-4*a*c < 0:\n",
    "        return \"无实数解\"\n",
    "    else:\n",
    "        return (-1*b + math.sqrt(b**2-4*a*c))/2*a,(-1*b - math.sqrt(b**2-4*a*c))/2*a\n",
    "\n",
    "r = quadratic(3,8,4)\n",
    "print(r)"
   ]
  },
  {
   "cell_type": "code",
   "execution_count": 10,
   "metadata": {},
   "outputs": [
    {
     "name": "stdout",
     "output_type": "stream",
     "text": [
      "9\n",
      "27\n"
     ]
    }
   ],
   "source": [
    "## 默认参数,使用 = 号进行初始化，\n",
    "def power(x,n=2):\n",
    "    s = 1\n",
    "    while n > 0:\n",
    "        n = n - 1\n",
    "        s = s * x\n",
    "    return s\n",
    "\n",
    "print(power(3))\n",
    "print (power(3,3))\n",
    "        "
   ]
  },
  {
   "cell_type": "code",
   "execution_count": 9,
   "metadata": {},
   "outputs": [],
   "source": [
    "## 默认参数可以使用参数选择\n",
    "def enroll(name,gender,age=6,city=\"广州\"):\n",
    "    print(\"name:%s\"%name)\n",
    "    print(\"gender：%s\"%gender)\n",
    "    print(\"age:%s\"%age)\n",
    "    print(\"city:%s\"%city)\n",
    "\n",
    "print(enroll(\"蔡臻\",\"一年级\",age=20,city=\"北京\"),end=\" \")\n",
    "print(enroll(\"蔡臻\",\"高中\"))"
   ]
  },
  {
   "cell_type": "code",
   "execution_count": 15,
   "metadata": {},
   "outputs": [
    {
     "name": "stdout",
     "output_type": "stream",
     "text": [
      "['end']\n",
      "['end', 'end']\n",
      "['end']\n",
      "['end']\n"
     ]
    }
   ],
   "source": [
    "## 列表参数,注意：默认参数必须指向一个不变的对象,比如 str None\n",
    "def add_end(L=[]):\n",
    "    L.append(\"end\")\n",
    "    return L\n",
    "print(add_end())\n",
    "print(add_end())\n",
    "\n",
    "def add_end_new(L=None):\n",
    "    if L is None:\n",
    "        L=[]\n",
    "    L.append(\"end\")\n",
    "    return L\n",
    "print(\"输出end:\")\n",
    "print(add_end_new())\n",
    "print(add_end_new())"
   ]
  },
  {
   "cell_type": "code",
   "execution_count": 20,
   "metadata": {},
   "outputs": [],
   "source": [
    "## 可变参数,使用 *param 代表可以传入 list 或者 元组\n",
    "def calc(*num):\n",
    "    sum = 0\n",
    "    for i in num:\n",
    "        sum = sum + i * i\n",
    "    return sum\n",
    "\n",
    "lst1 = [1,2,3,4]\n",
    "print(calc(1,2))\n",
    "print(calc(*lst1))"
   ]
  },
  {
   "cell_type": "code",
   "execution_count": 30,
   "metadata": {},
   "outputs": [],
   "source": [
    "## 关键字参数 **param 是个字典\n",
    "def person(name,age,**kw):\n",
    "    print(\"name:\",name,\"age:\",age,\"other:\",kw)\n",
    "    \n",
    "person(\"蔡臻\",6)\n",
    "person(\"蔡臻\",6,gender=\"一年级\")\n",
    "person(\"蔡臻\",10,gender=\"三年级\",sock=100)\n",
    "\n",
    "extra = {\"gender\":\"高中\",\"sock\":150}\n",
    "person(\"蔡臻\",18,**extra)"
   ]
  },
  {
   "cell_type": "code",
   "execution_count": 30,
   "metadata": {},
   "outputs": [
    {
     "name": "stdout",
     "output_type": "stream",
     "text": [
      "name: 蔡臻 age: 6 other: {}\n",
      "name: 蔡臻 age: 6 other: {'gender': '一年级'}\n",
      "name: 蔡臻 age: 10 other: {'gender': '三年级', 'sock': 100}\n",
      "name: 蔡臻 age: 18 other: {'gender': '高中', 'sock': 150}\n"
     ]
    }
   ],
   "source": [
    "## 命名关键字"
   ]
  }
 ],
 "metadata": {
  "kernelspec": {
   "display_name": "Python 3",
   "language": "python",
   "name": "python3"
  },
  "language_info": {
   "codemirror_mode": {
    "name": "ipython",
    "version": 3
   },
   "file_extension": ".py",
   "mimetype": "text/x-python",
   "name": "python",
   "nbconvert_exporter": "python",
   "pygments_lexer": "ipython3",
   "version": "3.7.4"
  }
 },
 "nbformat": 4,
 "nbformat_minor": 4
}
